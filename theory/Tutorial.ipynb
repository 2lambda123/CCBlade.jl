{
 "cells": [
  {
   "cell_type": "markdown",
   "metadata": {},
   "source": [
    "# Tutorial\n",
    "\n",
    "This tutorial contains three sections.  The first shows doc signatures for the available functions.  The second section runs an analysis for a wind turbine.  The last section runs an analysis for a propeller."
   ]
  },
  {
   "cell_type": "code",
   "execution_count": 1,
   "metadata": {},
   "outputs": [],
   "source": [
    "using CCBlade"
   ]
  },
  {
   "cell_type": "markdown",
   "metadata": {},
   "source": [
    "## Available Functions"
   ]
  },
  {
   "cell_type": "markdown",
   "metadata": {},
   "source": [
    "### Initializing Airfoil Data\n",
    "\n",
    "Two functions exist for initializing airfoil data.  One reads from files (AeroDyn format), the other directly uses input arrays."
   ]
  },
  {
   "cell_type": "code",
   "execution_count": null,
   "metadata": {},
   "outputs": [
    {
     "name": "stdout",
     "output_type": "stream",
     "text": [
      "search: \u001b[1ma\u001b[22m\u001b[1mf\u001b[22m\u001b[1m_\u001b[22m\u001b[1mf\u001b[22m\u001b[1mr\u001b[22m\u001b[1mo\u001b[22m\u001b[1mm\u001b[22m\u001b[1m_\u001b[22m\u001b[1ma\u001b[22m\u001b[1me\u001b[22m\u001b[1mr\u001b[22m\u001b[1mo\u001b[22m\u001b[1md\u001b[22m\u001b[1my\u001b[22m\u001b[1mn\u001b[22m\u001b[1mf\u001b[22m\u001b[1mi\u001b[22m\u001b[1ml\u001b[22m\u001b[1me\u001b[22m\n",
      "\n"
     ]
    },
    {
     "data": {
      "text/markdown": [
       "```\n",
       "af_from_aerodynfile(filename)\n",
       "```\n",
       "\n",
       "Read an airfoil file provided in AeroDyn file format. Currently only reads one Reynolds number if multiple exist. Returns an AirfoilData object\n"
      ],
      "text/plain": [
       "```\n",
       "af_from_aerodynfile(filename)\n",
       "```\n",
       "\n",
       "Read an airfoil file provided in AeroDyn file format. Currently only reads one Reynolds number if multiple exist. Returns an AirfoilData object\n"
      ]
     },
     "execution_count": 2,
     "metadata": {},
     "output_type": "execute_result"
    }
   ],
   "source": [
    "?af_from_aerodynfile"
   ]
  },
  {
   "cell_type": "code",
   "execution_count": 3,
   "metadata": {},
   "outputs": [
    {
     "name": "stdout",
     "output_type": "stream",
     "text": [
      "search: \u001b[1ma\u001b[22m\u001b[1mf\u001b[22m\u001b[1m_\u001b[22m\u001b[1mf\u001b[22m\u001b[1mr\u001b[22m\u001b[1mo\u001b[22m\u001b[1mm\u001b[22m\u001b[1m_\u001b[22m\u001b[1md\u001b[22m\u001b[1ma\u001b[22m\u001b[1mt\u001b[22m\u001b[1ma\u001b[22m \u001b[1ma\u001b[22m\u001b[1mf\u001b[22m\u001b[1m_\u001b[22m\u001b[1mf\u001b[22m\u001b[1mr\u001b[22m\u001b[1mo\u001b[22m\u001b[1mm\u001b[22m\u001b[1m_\u001b[22maero\u001b[1md\u001b[22mynfile\n",
      "\n"
     ]
    },
    {
     "data": {
      "text/markdown": [
       "```\n",
       "af_from_data(alpha, cl, cd)\n",
       "```\n",
       "\n",
       "Create an AirfoilData object directly from alpha, cl, and cd arrays.\n",
       "\n",
       "af_from_aerodynfile calls this function indirectly.  Uses a cubic B-spline (if the order of the data permits it).  A small amount of smoothing of lift and drag coefficients is also applied to aid performance for gradient-based optimization.\n"
      ],
      "text/plain": [
       "```\n",
       "af_from_data(alpha, cl, cd)\n",
       "```\n",
       "\n",
       "Create an AirfoilData object directly from alpha, cl, and cd arrays.\n",
       "\n",
       "af_from_aerodynfile calls this function indirectly.  Uses a cubic B-spline (if the order of the data permits it).  A small amount of smoothing of lift and drag coefficients is also applied to aid performance for gradient-based optimization.\n"
      ]
     },
     "execution_count": 3,
     "metadata": {},
     "output_type": "execute_result"
    }
   ],
   "source": [
    "?af_from_data"
   ]
  },
  {
   "cell_type": "markdown",
   "metadata": {},
   "source": [
    "### Rotor Definition\n",
    "\n",
    "The rotor definition is a struct"
   ]
  },
  {
   "cell_type": "code",
   "execution_count": 4,
   "metadata": {},
   "outputs": [
    {
     "name": "stdout",
     "output_type": "stream",
     "text": [
      "search: \u001b[1mR\u001b[22m\u001b[1mo\u001b[22m\u001b[1mt\u001b[22m\u001b[1mo\u001b[22m\u001b[1mr\u001b[22m \u001b[1mR\u001b[22m\u001b[1mo\u001b[22mwVec\u001b[1mt\u001b[22m\u001b[1mo\u001b[22m\u001b[1mr\u001b[22m \u001b[1mR\u001b[22m\u001b[1mo\u001b[22mund\u001b[1mT\u001b[22m\u001b[1mo\u001b[22mZe\u001b[1mr\u001b[22mo \u001b[1mr\u001b[22mem\u001b[1mo\u001b[22m\u001b[1mt\u001b[22me_d\u001b[1mo\u001b[22m E\u001b[1mr\u001b[22mr\u001b[1mo\u001b[22mrExcep\u001b[1mt\u001b[22mi\u001b[1mo\u001b[22mn \u001b[1mR\u001b[22mem\u001b[1mo\u001b[22m\u001b[1mt\u001b[22meExcepti\u001b[1mo\u001b[22mn\n",
      "\n"
     ]
    },
    {
     "data": {
      "text/markdown": [
       "```\n",
       "Rotor(r, chord, theta, af, Rhub, Rtip, B, precone)\n",
       "```\n",
       "\n",
       "Define rotor geometry.\n",
       "\n",
       "**Arguments**\n",
       "\n",
       "  * `r::Array{Float64, 1}`: radial locations (m)\n",
       "  * `chord::Array{Float64, 1}`: chord lengths (m)\n",
       "  * `theta::Array{Float64, 1}`: total twist including pitch (rad)\n",
       "  * `af::Array{AirfoilData, 1}`: airfoils\n",
       "  * `Rhub::Float64`: hub radius (along blade length)\n",
       "  * `Rtip::Float64`: tip radius (along blade length)\n",
       "  * `B::Int64`: number of blades\n",
       "  * `precone::Float64`: precone angle (rad)\n"
      ],
      "text/plain": [
       "```\n",
       "Rotor(r, chord, theta, af, Rhub, Rtip, B, precone)\n",
       "```\n",
       "\n",
       "Define rotor geometry.\n",
       "\n",
       "**Arguments**\n",
       "\n",
       "  * `r::Array{Float64, 1}`: radial locations (m)\n",
       "  * `chord::Array{Float64, 1}`: chord lengths (m)\n",
       "  * `theta::Array{Float64, 1}`: total twist including pitch (rad)\n",
       "  * `af::Array{AirfoilData, 1}`: airfoils\n",
       "  * `Rhub::Float64`: hub radius (along blade length)\n",
       "  * `Rtip::Float64`: tip radius (along blade length)\n",
       "  * `B::Int64`: number of blades\n",
       "  * `precone::Float64`: precone angle (rad)\n"
      ]
     },
     "execution_count": 4,
     "metadata": {},
     "output_type": "execute_result"
    }
   ],
   "source": [
    "?Rotor"
   ]
  },
  {
   "cell_type": "markdown",
   "metadata": {},
   "source": [
    "### Initializing Inflow\n",
    "\n",
    "Two main functions exist for inflow initilization.  One assumes uniform inflow.  Another allows for coning, tilt, yaw, azimuth, and shear."
   ]
  },
  {
   "cell_type": "code",
   "execution_count": 5,
   "metadata": {},
   "outputs": [
    {
     "name": "stdout",
     "output_type": "stream",
     "text": [
      "search: \u001b[1ms\u001b[22m\u001b[1mi\u001b[22m\u001b[1mm\u001b[22m\u001b[1mp\u001b[22m\u001b[1ml\u001b[22m\u001b[1me\u001b[22m\u001b[1mi\u001b[22m\u001b[1mn\u001b[22m\u001b[1mf\u001b[22m\u001b[1ml\u001b[22m\u001b[1mo\u001b[22m\u001b[1mw\u001b[22m\n",
      "\n"
     ]
    },
    {
     "data": {
      "text/markdown": [
       "```\n",
       "simpleinflow(Vinf, Omega, r, precone, rho)\n",
       "```\n",
       "\n",
       "Uniform inflow through rotor.  Returns an Inflow object.\n",
       "\n",
       "**Arguments**\n",
       "\n",
       "  * `Vinf::Float64`: freestream speed (m/s)\n",
       "  * `Omega::Float64`: rotation speed (rad/s)\n",
       "  * `r::Array{Float64, 1}`: radial locations where inflow is computed (m)\n",
       "  * `precone::Float64`: precone angle (rad)\n",
       "  * `rho::Float64`: air density (kg/m^3)\n"
      ],
      "text/plain": [
       "```\n",
       "simpleinflow(Vinf, Omega, r, precone, rho)\n",
       "```\n",
       "\n",
       "Uniform inflow through rotor.  Returns an Inflow object.\n",
       "\n",
       "**Arguments**\n",
       "\n",
       "  * `Vinf::Float64`: freestream speed (m/s)\n",
       "  * `Omega::Float64`: rotation speed (rad/s)\n",
       "  * `r::Array{Float64, 1}`: radial locations where inflow is computed (m)\n",
       "  * `precone::Float64`: precone angle (rad)\n",
       "  * `rho::Float64`: air density (kg/m^3)\n"
      ]
     },
     "execution_count": 5,
     "metadata": {},
     "output_type": "execute_result"
    }
   ],
   "source": [
    "?simpleinflow"
   ]
  },
  {
   "cell_type": "code",
   "execution_count": 6,
   "metadata": {},
   "outputs": [
    {
     "name": "stdout",
     "output_type": "stream",
     "text": [
      "search: \u001b[1mw\u001b[22m\u001b[1mi\u001b[22m\u001b[1mn\u001b[22m\u001b[1md\u001b[22m\u001b[1mt\u001b[22m\u001b[1mu\u001b[22m\u001b[1mr\u001b[22m\u001b[1mb\u001b[22m\u001b[1mi\u001b[22m\u001b[1mn\u001b[22m\u001b[1me\u001b[22m\u001b[1mi\u001b[22m\u001b[1mn\u001b[22m\u001b[1mf\u001b[22m\u001b[1ml\u001b[22m\u001b[1mo\u001b[22m\u001b[1mw\u001b[22m \u001b[1mw\u001b[22m\u001b[1mi\u001b[22m\u001b[1mn\u001b[22m\u001b[1md\u001b[22m\u001b[1mt\u001b[22m\u001b[1mu\u001b[22m\u001b[1mr\u001b[22m\u001b[1mb\u001b[22m\u001b[1mi\u001b[22m\u001b[1mn\u001b[22m\u001b[1me\u001b[22m\u001b[1mi\u001b[22m\u001b[1mn\u001b[22m\u001b[1mf\u001b[22m\u001b[1ml\u001b[22m\u001b[1mo\u001b[22m\u001b[1mw\u001b[22mmultiple\n",
      "\n"
     ]
    },
    {
     "data": {
      "text/markdown": [
       "```\n",
       "windturbineinflow(Vinf, Omega, r, precone, yaw, tilt, azimuth, hubHt, shearExp, rho)\n",
       "```\n",
       "\n",
       "Compute relative wind velocity components along blade accounting for inflow conditions and orientation of turbine.  See theory doc for angle definitions.\n",
       "\n",
       "**Arguments**\n",
       "\n",
       "  * `Vinf::Float64`: freestream speed (m/s)\n",
       "  * `Omega::Float64`: rotation speed (rad/s)\n",
       "  * `r::Array{Float64, 1}`: radial locations where inflow is computed (m)\n",
       "  * `precone::Float64`: precone angle (rad)\n",
       "  * `yaw::Float64`: yaw angle (rad)\n",
       "  * `tilt::Float64`: tilt angle (rad)\n",
       "  * `azimuth::Float64`: azimuth angle (rad)\n",
       "  * `hubHt::Float64`: hub height (m) - used for shear\n",
       "  * `shearExp::Float64`: power law shear exponent\n",
       "  * `rho::Float64`: air density (kg/m^3)\n"
      ],
      "text/plain": [
       "```\n",
       "windturbineinflow(Vinf, Omega, r, precone, yaw, tilt, azimuth, hubHt, shearExp, rho)\n",
       "```\n",
       "\n",
       "Compute relative wind velocity components along blade accounting for inflow conditions and orientation of turbine.  See theory doc for angle definitions.\n",
       "\n",
       "**Arguments**\n",
       "\n",
       "  * `Vinf::Float64`: freestream speed (m/s)\n",
       "  * `Omega::Float64`: rotation speed (rad/s)\n",
       "  * `r::Array{Float64, 1}`: radial locations where inflow is computed (m)\n",
       "  * `precone::Float64`: precone angle (rad)\n",
       "  * `yaw::Float64`: yaw angle (rad)\n",
       "  * `tilt::Float64`: tilt angle (rad)\n",
       "  * `azimuth::Float64`: azimuth angle (rad)\n",
       "  * `hubHt::Float64`: hub height (m) - used for shear\n",
       "  * `shearExp::Float64`: power law shear exponent\n",
       "  * `rho::Float64`: air density (kg/m^3)\n"
      ]
     },
     "execution_count": 6,
     "metadata": {},
     "output_type": "execute_result"
    }
   ],
   "source": [
    "?windturbineinflow"
   ]
  },
  {
   "cell_type": "code",
   "execution_count": 7,
   "metadata": {},
   "outputs": [
    {
     "name": "stdout",
     "output_type": "stream",
     "text": [
      "search: \u001b[1mw\u001b[22m\u001b[1mi\u001b[22m\u001b[1mn\u001b[22m\u001b[1md\u001b[22m\u001b[1mt\u001b[22m\u001b[1mu\u001b[22m\u001b[1mr\u001b[22m\u001b[1mb\u001b[22m\u001b[1mi\u001b[22m\u001b[1mn\u001b[22m\u001b[1me\u001b[22m\u001b[1mi\u001b[22m\u001b[1mn\u001b[22m\u001b[1mf\u001b[22m\u001b[1ml\u001b[22m\u001b[1mo\u001b[22m\u001b[1mw\u001b[22m\u001b[1mm\u001b[22m\u001b[1mu\u001b[22m\u001b[1ml\u001b[22m\u001b[1mt\u001b[22m\u001b[1mi\u001b[22m\u001b[1mp\u001b[22m\u001b[1ml\u001b[22m\u001b[1me\u001b[22m \u001b[1mw\u001b[22m\u001b[1mi\u001b[22m\u001b[1mn\u001b[22m\u001b[1md\u001b[22m\u001b[1mt\u001b[22m\u001b[1mu\u001b[22m\u001b[1mr\u001b[22m\u001b[1mb\u001b[22m\u001b[1mi\u001b[22m\u001b[1mn\u001b[22m\u001b[1me\u001b[22m\u001b[1mi\u001b[22m\u001b[1mn\u001b[22m\u001b[1mf\u001b[22m\u001b[1ml\u001b[22m\u001b[1mo\u001b[22m\u001b[1mw\u001b[22m\n",
      "\n"
     ]
    },
    {
     "data": {
      "text/markdown": [
       "```\n",
       "windturbineinflowmultiple(nsectors, Vinf, Omega, r, precone, yaw, tilt, hubHt, shearExp, rho)\n",
       "```\n",
       "\n",
       "Convenience function that calls windturbineinflow multiple times, once for each azimuthal angle. The azimuth angles are uniformly spaced (starting at 0) based on the number of sectors that the user wishes to divide the rotor into.\n"
      ],
      "text/plain": [
       "```\n",
       "windturbineinflowmultiple(nsectors, Vinf, Omega, r, precone, yaw, tilt, hubHt, shearExp, rho)\n",
       "```\n",
       "\n",
       "Convenience function that calls windturbineinflow multiple times, once for each azimuthal angle. The azimuth angles are uniformly spaced (starting at 0) based on the number of sectors that the user wishes to divide the rotor into.\n"
      ]
     },
     "execution_count": 7,
     "metadata": {},
     "output_type": "execute_result"
    }
   ],
   "source": [
    "?windturbineinflowmultiple"
   ]
  },
  {
   "cell_type": "markdown",
   "metadata": {},
   "source": [
    "### Analysis Functions\n",
    "\n",
    "There are two main types of analyses.  One compute the distributed loads along the blade at one inflow condition.  Another integrates those distributed loads to compute thrust and torque (at multiple inflow conditions)"
   ]
  },
  {
   "cell_type": "code",
   "execution_count": 8,
   "metadata": {},
   "outputs": [
    {
     "name": "stdout",
     "output_type": "stream",
     "text": [
      "search: \u001b[1md\u001b[22m\u001b[1mi\u001b[22m\u001b[1ms\u001b[22m\u001b[1mt\u001b[22m\u001b[1mr\u001b[22m\u001b[1mi\u001b[22m\u001b[1mb\u001b[22m\u001b[1mu\u001b[22m\u001b[1mt\u001b[22m\u001b[1me\u001b[22m\u001b[1md\u001b[22m\u001b[1ml\u001b[22m\u001b[1mo\u001b[22m\u001b[1ma\u001b[22m\u001b[1md\u001b[22m\u001b[1ms\u001b[22m \u001b[1mD\u001b[22m\u001b[1mi\u001b[22m\u001b[1ms\u001b[22m\u001b[1mt\u001b[22m\u001b[1mr\u001b[22m\u001b[1mi\u001b[22m\u001b[1mb\u001b[22m\u001b[1mu\u001b[22m\u001b[1mt\u001b[22m\u001b[1me\u001b[22m\u001b[1md\u001b[22m\n",
      "\n"
     ]
    },
    {
     "data": {
      "text/markdown": [
       "```\n",
       "distributedloads(rotor::Rotor, inflow::Inflow, turbine::Bool)\n",
       "```\n",
       "\n",
       "Compute the distributed loads along blade at specified condition. turbine can be true/false depending on if the analysis is for a turbine or prop (just affects some input/output conventions as noted in the theory doc).\n",
       "\n",
       "**Returns**\n",
       "\n",
       "  * `Np::Float64`: force per unit length in the normal direction (N/m)\n",
       "  * `Tp::Float64`: force per unit length in the tangential direction (N/m)\n"
      ],
      "text/plain": [
       "```\n",
       "distributedloads(rotor::Rotor, inflow::Inflow, turbine::Bool)\n",
       "```\n",
       "\n",
       "Compute the distributed loads along blade at specified condition. turbine can be true/false depending on if the analysis is for a turbine or prop (just affects some input/output conventions as noted in the theory doc).\n",
       "\n",
       "**Returns**\n",
       "\n",
       "  * `Np::Float64`: force per unit length in the normal direction (N/m)\n",
       "  * `Tp::Float64`: force per unit length in the tangential direction (N/m)\n"
      ]
     },
     "execution_count": 8,
     "metadata": {},
     "output_type": "execute_result"
    }
   ],
   "source": [
    "?distributedloads"
   ]
  },
  {
   "cell_type": "code",
   "execution_count": 9,
   "metadata": {},
   "outputs": [
    {
     "name": "stdout",
     "output_type": "stream",
     "text": [
      "search: \u001b[1mt\u001b[22m\u001b[1mh\u001b[22m\u001b[1mr\u001b[22m\u001b[1mu\u001b[22m\u001b[1ms\u001b[22m\u001b[1mt\u001b[22m\u001b[1mt\u001b[22m\u001b[1mo\u001b[22m\u001b[1mr\u001b[22m\u001b[1mq\u001b[22m\u001b[1mu\u001b[22m\u001b[1me\u001b[22m\n",
      "\n"
     ]
    },
    {
     "data": {
      "text/markdown": [
       "thrusttorque(rotor::Rotor, inflow::Array{Inflow, 1}, turbine::Bool)\n",
       "\n",
       "Compute thrust and toruqe at the provided inflow conditions.\n",
       "\n",
       "**Returns**\n",
       "\n",
       "  * `T::Float64`: thrust (N)\n",
       "  * `Q::Float64`: torque (N-m)\n"
      ],
      "text/plain": [
       "thrusttorque(rotor::Rotor, inflow::Array{Inflow, 1}, turbine::Bool)\n",
       "\n",
       "Compute thrust and toruqe at the provided inflow conditions.\n",
       "\n",
       "**Returns**\n",
       "\n",
       "  * `T::Float64`: thrust (N)\n",
       "  * `Q::Float64`: torque (N-m)\n"
      ]
     },
     "execution_count": 9,
     "metadata": {},
     "output_type": "execute_result"
    }
   ],
   "source": [
    "?thrusttorque"
   ]
  },
  {
   "cell_type": "code",
   "execution_count": 10,
   "metadata": {},
   "outputs": [
    {
     "name": "stdout",
     "output_type": "stream",
     "text": [
      "search: \u001b[1mn\u001b[22m\u001b[1mo\u001b[22m\u001b[1mn\u001b[22m\u001b[1md\u001b[22m\u001b[1mi\u001b[22m\u001b[1mm\u001b[22m\n",
      "\n"
     ]
    },
    {
     "data": {
      "text/markdown": [
       "Nondimensionalize the outputs.\n",
       "\n",
       "**Arguments**\n",
       "\n",
       "  * `T::Float64`: thrust (N)\n",
       "  * `Q::Float64`: torque (N-m)\n",
       "  * `Vhub::Float64`: hub speed used in turbine normalization (m/s)\n",
       "  * `Omega::Float64`: rotation speed used in propeller normalization (rad/s)\n",
       "  * `rho::Float64`: air density (kg/m^3)\n",
       "  * `Rtip::Float64`: rotor tip length (m)\n",
       "  * `precone::Float64`: precone angle (rad)\n",
       "  * `turbine::Bool`: turbine (true) or propeller (false)\n",
       "\n",
       "**Returns**\n",
       "\n",
       "if turbine\n",
       "\n",
       "  * `CP::Float64`: power coefficient\n",
       "  * `CT::Float64`: thrust coefficient\n",
       "  * `CQ::Float64`: torque coefficient\n",
       "\n",
       "if propeller\n",
       "\n",
       "  * `eff::Float64`: efficiency\n",
       "  * `CT::Float64`: thrust coefficient\n",
       "  * `CQ::Float64`: torque coefficient\n"
      ],
      "text/plain": [
       "Nondimensionalize the outputs.\n",
       "\n",
       "**Arguments**\n",
       "\n",
       "  * `T::Float64`: thrust (N)\n",
       "  * `Q::Float64`: torque (N-m)\n",
       "  * `Vhub::Float64`: hub speed used in turbine normalization (m/s)\n",
       "  * `Omega::Float64`: rotation speed used in propeller normalization (rad/s)\n",
       "  * `rho::Float64`: air density (kg/m^3)\n",
       "  * `Rtip::Float64`: rotor tip length (m)\n",
       "  * `precone::Float64`: precone angle (rad)\n",
       "  * `turbine::Bool`: turbine (true) or propeller (false)\n",
       "\n",
       "**Returns**\n",
       "\n",
       "if turbine\n",
       "\n",
       "  * `CP::Float64`: power coefficient\n",
       "  * `CT::Float64`: thrust coefficient\n",
       "  * `CQ::Float64`: torque coefficient\n",
       "\n",
       "if propeller\n",
       "\n",
       "  * `eff::Float64`: efficiency\n",
       "  * `CT::Float64`: thrust coefficient\n",
       "  * `CQ::Float64`: torque coefficient\n"
      ]
     },
     "execution_count": 10,
     "metadata": {},
     "output_type": "execute_result"
    }
   ],
   "source": [
    "?nondim"
   ]
  },
  {
   "cell_type": "markdown",
   "metadata": {},
   "source": [
    "## Wind Turbine\n",
    "\n",
    "We start with a wind turbine example.  We begin by defining some of the geometry parameters needed to define the rotor object.  All angles should be given in radians."
   ]
  },
  {
   "cell_type": "code",
   "execution_count": 33,
   "metadata": {},
   "outputs": [],
   "source": [
    "# geometry\n",
    "Rhub = 1.5\n",
    "Rtip = 63.0\n",
    "\n",
    "r = [2.8667, 5.6000, 8.3333, 11.7500, 15.8500, 19.9500, 24.0500,\n",
    "    28.1500, 32.2500, 36.3500, 40.4500, 44.5500, 48.6500, 52.7500,\n",
    "    56.1667, 58.9000, 61.6333]\n",
    "chord = [3.542, 3.854, 4.167, 4.557, 4.652, 4.458, 4.249, 4.007, 3.748,\n",
    "    3.502, 3.256, 3.010, 2.764, 2.518, 2.313, 2.086, 1.419]\n",
    "theta = [13.308, 13.308, 13.308, 13.308, 11.480, 10.162, 9.011, 7.795,\n",
    "    6.544, 5.361, 4.188, 3.125, 2.319, 1.526, 0.863, 0.370, 0.106]*pi/180\n",
    "B = 3  # number of blades\n",
    "\n",
    "aftypes = Array{AirfoilData}(8)\n",
    "aftypes[1] = af_from_aerodynfile(\"airfoils/Cylinder1.dat\")\n",
    "aftypes[2] = af_from_aerodynfile(\"airfoils/Cylinder2.dat\")\n",
    "aftypes[3] = af_from_aerodynfile(\"airfoils/DU40_A17.dat\")\n",
    "aftypes[4] = af_from_aerodynfile(\"airfoils/DU35_A17.dat\")\n",
    "aftypes[5] = af_from_aerodynfile(\"airfoils/DU30_A17.dat\")\n",
    "aftypes[6] = af_from_aerodynfile(\"airfoils/DU25_A17.dat\")\n",
    "aftypes[7] = af_from_aerodynfile(\"airfoils/DU21_A17.dat\")\n",
    "aftypes[8] = af_from_aerodynfile(\"airfoils/NACA64_A17.dat\")\n",
    "\n",
    "af_idx = [1, 1, 2, 3, 4, 4, 5, 6, 6, 7, 7, 8, 8, 8, 8, 8, 8]\n",
    "\n",
    "n = length(r)\n",
    "af = Array{AirfoilData}(n)\n",
    "for i = 1:n\n",
    "    af[i] = aftypes[af_idx[i]]\n",
    "end\n",
    "\n",
    "precone = 2.5*pi/180;\n",
    "\n",
    "rotor = Rotor(r, chord, theta, af, Rhub, Rtip, B, precone);"
   ]
  },
  {
   "cell_type": "code",
   "execution_count": 34,
   "metadata": {},
   "outputs": [],
   "source": [
    "# environment parameters\n",
    "shearExp = 0.2  # power law wind shear profile\n",
    "hubHt = 90.0\n",
    "rho = 1.225\n",
    "\n",
    "# orientation\n",
    "yaw = 0.0*pi/180\n",
    "tilt = 5.0*pi/180\n",
    "\n",
    "# operating point for the turbine/propeller\n",
    "Vinf = 10.0\n",
    "tsr = 7.55\n",
    "rotorR = Rtip*cos(precone)\n",
    "Omega = Vinf*tsr/rotorR\n",
    "azimuth = 0.0*pi/180\n",
    "\n",
    "\n",
    "inflow = windturbineinflow(Vinf, Omega, r, precone, yaw, tilt, azimuth, hubHt, shearExp, rho);"
   ]
  },
  {
   "cell_type": "code",
   "execution_count": 35,
   "metadata": {},
   "outputs": [],
   "source": [
    "turbine = true\n",
    "Np, Tp = distributedloads(rotor, inflow, turbine);"
   ]
  },
  {
   "cell_type": "code",
   "execution_count": null,
   "metadata": {},
   "outputs": [],
   "source": [
    "using PyPlot"
   ]
  },
  {
   "cell_type": "code",
   "execution_count": 37,
   "metadata": {},
   "outputs": [
    {
     "data": {
      "image/png": "[encoded data removed]",
      "text/plain": [
       "PyPlot.Figure(PyObject <matplotlib.figure.Figure object at 0x15759fad0>)"
      ]
     },
     "metadata": {},
     "output_type": "display_data",
     "source": "julia"
    }
   ],
   "source": [
    "figure()\n",
    "plot(r/Rtip, Np/1e3)\n",
    "plot(r/Rtip, Tp/1e3)\n",
    "xlabel(\"r/Rtip\")\n",
    "ylabel(\"distributed loads (kN/m)\")\n",
    "legend([\"flapwise\", \"lead-lag\"]);"
   ]
  },
  {
   "cell_type": "code",
   "execution_count": 40,
   "metadata": {},
   "outputs": [],
   "source": [
    "ntsr = 20\n",
    "tsrvec = linspace(2, 15, ntsr)\n",
    "cpvec = zeros(ntsr)\n",
    "ctvec = zeros(ntsr)\n",
    "nsectors = 4\n",
    "\n",
    "for i = 1:ntsr\n",
    "    Omega = Vinf*tsrvec[i]/rotorR\n",
    "\n",
    "    inflow = windturbineinflowmultiple(nsectors, Vinf, Omega, r, precone, yaw, tilt, hubHt, shearExp, rho)\n",
    "\n",
    "    T, Q = thrusttorque(rotor, inflow, turbine)\n",
    "    cpvec[i], ctvec[i], CQ = nondim(T, Q, Vinf, Omega, rho, Rtip, precone, turbine)\n",
    "\n",
    "end"
   ]
  },
  {
   "cell_type": "code",
   "execution_count": 41,
   "metadata": {},
   "outputs": [
    {
     "data": {
      "image/png": "[encoded data removed]",
      "text/plain": [
       "PyPlot.Figure(PyObject <matplotlib.figure.Figure object at 0x1574c2ed0>)"
      ]
     },
     "metadata": {},
     "output_type": "display_data",
     "source": "julia"
    }
   ],
   "source": [
    "figure()\n",
    "plot(tsrvec, cpvec)\n",
    "plot(tsrvec, ctvec)\n",
    "xlabel(\"tip speed ratio\")\n",
    "legend([L\"C_P\", L\"C_T\"]);"
   ]
  },
  {
   "cell_type": "markdown",
   "metadata": {},
   "source": [
    "## Propeller"
   ]
  },
  {
   "cell_type": "code",
   "execution_count": 42,
   "metadata": {},
   "outputs": [],
   "source": [
    "# geometry\n",
    "Rhub = 0.0254*.5\n",
    "Rtip = 0.0254*3.0\n",
    "\n",
    "r = .0254*[0.7526, 0.7928, 0.8329, 0.8731, 0.9132, 0.9586, 1.0332,\n",
    "     1.1128, 1.1925, 1.2722, 1.3519, 1.4316, 1.5114, 1.5911,\n",
    "     1.6708, 1.7505, 1.8302, 1.9099, 1.9896, 2.0693, 2.1490, 2.2287,\n",
    "     2.3084, 2.3881, 2.4678, 2.5475, 2.6273, 2.7070, 2.7867, 2.8661, 2.9410]\n",
    "chord = .0254*[0.6270, 0.6255, 0.6231, 0.6199, 0.6165, 0.6125, 0.6054, 0.5973, 0.5887,\n",
    "          0.5794, 0.5695, 0.5590, 0.5479, 0.5362, 0.5240, 0.5111, 0.4977,\n",
    "          0.4836, 0.4689, 0.4537, 0.4379, 0.4214, 0.4044, 0.3867, 0.3685,\n",
    "          0.3497, 0.3303, 0.3103, 0.2897, 0.2618, 0.1920]\n",
    "\n",
    "theta = pi/180.0*[40.2273, 38.7657, 37.3913, 36.0981, 34.8803, 33.5899, 31.6400,\n",
    "                   29.7730, 28.0952, 26.5833, 25.2155, 23.9736, 22.8421, 21.8075,\n",
    "                   20.8586, 19.9855, 19.1800, 18.4347, 17.7434, 17.1005, 16.5013,\n",
    "                   15.9417, 15.4179, 14.9266, 14.4650, 14.0306, 13.6210, 13.2343,\n",
    "                   12.8685, 12.5233, 12.2138]\n",
    "B = 2  # number of blades\n",
    "\n",
    "aftype = af_from_aerodynfile(\"airfoils/NACA64_A17.dat\")\n",
    "\n",
    "n = length(r)\n",
    "af = Array{AirfoilData}(n)\n",
    "for i = 1:n\n",
    "    af[i] = aftype\n",
    "end\n",
    "\n",
    "precone = 0.0\n",
    "\n",
    "rho = 1.225\n",
    "\n",
    "Vinf = 10.0\n",
    "Omega = 8000.0*pi/30.0\n",
    "\n",
    "inflow = simpleinflow(Vinf, Omega, r, precone, rho)\n",
    "rotor = Rotor(r, chord, theta, af, Rhub, Rtip, B, precone);"
   ]
  },
  {
   "cell_type": "code",
   "execution_count": null,
   "metadata": {},
   "outputs": [],
   "source": [
    "turbine = false\n",
    "\n",
    "Np, Tp = distributedloads(rotor, inflow, turbine);"
   ]
  },
  {
   "cell_type": "code",
   "execution_count": 44,
   "metadata": {},
   "outputs": [
    {
     "data": {
      "image/png": "[encoded data removed]",
      "text/plain": [
       "PyPlot.Figure(PyObject <matplotlib.figure.Figure object at 0x15c2bd610>)"
      ]
     },
     "metadata": {},
     "output_type": "display_data",
     "source": "julia"
    }
   ],
   "source": [
    "figure()\n",
    "plot(r/Rtip, Np)\n",
    "plot(r/Rtip, Tp)\n",
    "xlabel(\"r/Rtip\")\n",
    "ylabel(\"distributed loads (N/m)\")\n",
    "legend([\"flapwise\", \"lead-lag\"]);"
   ]
  },
  {
   "cell_type": "code",
   "execution_count": null,
   "metadata": {},
   "outputs": [],
   "source": [
    "nJ = 20\n",
    "\n",
    "J = linspace(0.1, 0.9, nJ)  # advance ratio\n",
    "\n",
    "Omega = 8000.0*pi/30\n",
    "n = Omega/(2*pi)\n",
    "D = 2*Rtip*cos(precone)\n",
    "\n",
    "eff = zeros(nJ)\n",
    "CT = zeros(nJ)\n",
    "CQ = zeros(nJ)\n",
    "\n",
    "for i = 1:nJ\n",
    "    Vinf = J[i] * D * n\n",
    "\n",
    "    inflow = simpleinflow(Vinf, Omega, r, precone, rho)\n",
    "\n",
    "    T, Q = thrusttorque(rotor, [inflow], turbine)\n",
    "    eff[i], CT[i], CQ[i] = nondim(T, Q, Vinf, Omega, rho, Rtip, precone, turbine)\n",
    "\n",
    "end"
   ]
  },
  {
   "cell_type": "code",
   "execution_count": 46,
   "metadata": {},
   "outputs": [
    {
     "data": {
      "image/png": "[encoded data removed]",
      "text/plain": [
       "PyPlot.Figure(PyObject <matplotlib.figure.Figure object at 0x1113a7a50>)"
      ]
     },
     "metadata": {},
     "output_type": "display_data",
     "source": "julia"
    }
   ],
   "source": [
    "figure()\n",
    "plot(J, CT)\n",
    "plot(J, CQ*2*pi)\n",
    "xlabel(L\"J\")\n",
    "legend([L\"C_T\", L\"C_P\"]);"
   ]
  },
  {
   "cell_type": "code",
   "execution_count": 47,
   "metadata": {},
   "outputs": [
    {
     "data": {
      "image/png": "[encoded data removed]",
      "text/plain": [
       "PyPlot.Figure(PyObject <matplotlib.figure.Figure object at 0x157432610>)"
      ]
     },
     "metadata": {},
     "output_type": "display_data",
     "source": "julia"
    }
   ],
   "source": [
    "figure()\n",
    "plot(J, eff)\n",
    "xlabel(L\"J\")\n",
    "ylabel(L\"\\eta\");"
   ]
  },
  {
   "cell_type": "code",
   "execution_count": null,
   "metadata": {},
   "outputs": [],
   "source": []
  }
 ],
 "metadata": {
  "kernelspec": {
   "display_name": "Julia 0.6.0",
   "language": "julia",
   "name": "julia-0.6"
  },
  "language_info": {
   "file_extension": ".jl",
   "mimetype": "application/julia",
   "name": "julia",
   "version": "0.6.0"
  }
 },
 "nbformat": 4,
 "nbformat_minor": 2
}
