{
 "cells": [
  {
   "cell_type": "markdown",
   "metadata": {},
   "source": [
    "# CCBlade.jl\n",
    "\n",
    "CCBlade is a blade element momentum for propellers and turbines.  Most of the implementation is fairly standard except for a few unique features:\n",
    "- allows for flow reversals (negative inflow/rotation velocities)\n",
    "- allows for a hover condition (only rotation, no inflow) and rotor locked (no rotation, only inflow)\n",
    "- methodology is provably convergent\n",
    "- provides gradients using automatic differentiation\n",
    "\n",
    "The links below provide more information.\n",
    "\n",
    "- [Tutorial]()\n",
    "- [Theory]()"
   ]
  },
  {
   "cell_type": "code",
   "execution_count": null,
   "metadata": {},
   "outputs": [],
   "source": []
  }
 ],
 "metadata": {
  "kernelspec": {
   "display_name": "Julia 0.6.0",
   "language": "julia",
   "name": "julia-0.6"
  },
  "language_info": {
   "file_extension": ".jl",
   "mimetype": "application/julia",
   "name": "julia",
   "version": "0.6.0"
  }
 },
 "nbformat": 4,
 "nbformat_minor": 2
}
